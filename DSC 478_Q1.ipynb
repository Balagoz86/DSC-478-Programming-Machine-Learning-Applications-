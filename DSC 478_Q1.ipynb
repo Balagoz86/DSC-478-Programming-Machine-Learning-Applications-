{
 "cells": [
  {
   "cell_type": "markdown",
   "metadata": {},
   "source": [
    "# HW3-DSC 478\n",
    "\n",
    "For this assignment you will experiment with various regression approaches and you'll get your feet wet with some clustering. We will rely on subsets of some real-world data sets and on tools from the scikit-learn machine learning package for Python as well as modules from the textbook code (Machine Learning in Action, Chapters 8 and 10).\n"
   ]
  },
  {
   "cell_type": "code",
   "execution_count": 4,
   "metadata": {},
   "outputs": [],
   "source": [
    "import pandas as pd\n",
    "import numpy as np\n",
    "import matplotlib.pyplot as plt\n",
    "from sklearn.linear_model import LinearRegression\n",
    "from sklearn.model_selection import KFold\n",
    "from warnings import simplefilter\n",
    "simplefilter(action='ignore', category=FutureWarning)\n",
    "from sklearn import feature_selection\n",
    "from sklearn.model_selection import cross_validate,train_test_split,cross_val_score\n",
    "from sklearn.feature_selection import SelectPercentile, f_regression\n",
    "from sklearn.model_selection import GridSearchCV\n"
   ]
  },
  {
   "cell_type": "markdown",
   "metadata": {},
   "source": [
    "# Q1 _ LINEAR REGRESSION\n",
    "\n",
    "\n",
    "<b>a) Load and preprocess the data using Pandas or Numpy and, if necessary, preprocessing functions from scikit-learn. The provided data is already normalized (see description), so there is no need for additional normalization. Compute and display basic statistics (mean, standard deviation, min, max, etc.) for each of the variables in the data set. Separate the target attribute for regression."
   ]
  },
  {
   "cell_type": "code",
   "execution_count": 5,
   "metadata": {},
   "outputs": [],
   "source": [
    "import os\n",
    "os.chdir('/Users/burcu.alagoz/Desktop/HW3/communities')"
   ]
  },
  {
   "cell_type": "code",
   "execution_count": 9,
   "metadata": {},
   "outputs": [],
   "source": [
    "# import warnings filter\n",
    "from warnings import simplefilter\n",
    "# ignore all future warnings\n",
    "simplefilter(action='ignore', category=FutureWarning)"
   ]
  },
  {
   "cell_type": "code",
   "execution_count": 15,
   "metadata": {
    "scrolled": true
   },
   "outputs": [],
   "source": [
    "#load dataset\n",
    "communities = pd.read_csv(\"communities.csv\", na_values = ['?'])\n",
    "communities.OtherPerCap.fillna(communities.OtherPerCap.mean(), axis = 0, inplace = True)"
   ]
  },
  {
   "cell_type": "code",
   "execution_count": 16,
   "metadata": {},
   "outputs": [
    {
     "data": {
      "text/html": [
       "<div>\n",
       "<style scoped>\n",
       "    .dataframe tbody tr th:only-of-type {\n",
       "        vertical-align: middle;\n",
       "    }\n",
       "\n",
       "    .dataframe tbody tr th {\n",
       "        vertical-align: top;\n",
       "    }\n",
       "\n",
       "    .dataframe thead th {\n",
       "        text-align: right;\n",
       "    }\n",
       "</style>\n",
       "<table border=\"1\" class=\"dataframe\">\n",
       "  <thead>\n",
       "    <tr style=\"text-align: right;\">\n",
       "      <th></th>\n",
       "      <th>state</th>\n",
       "      <th>communityname</th>\n",
       "      <th>population</th>\n",
       "      <th>householdsize</th>\n",
       "      <th>racepctblack</th>\n",
       "      <th>racePctWhite</th>\n",
       "      <th>racePctAsian</th>\n",
       "      <th>racePctHisp</th>\n",
       "      <th>agePct12t21</th>\n",
       "      <th>agePct12t29</th>\n",
       "      <th>...</th>\n",
       "      <th>NumStreet</th>\n",
       "      <th>PctForeignBorn</th>\n",
       "      <th>PctBornSameState</th>\n",
       "      <th>PctSameHouse85</th>\n",
       "      <th>PctSameCity85</th>\n",
       "      <th>PctSameState85</th>\n",
       "      <th>LandArea</th>\n",
       "      <th>PopDens</th>\n",
       "      <th>PctUsePubTrans</th>\n",
       "      <th>ViolentCrimesPerPop</th>\n",
       "    </tr>\n",
       "  </thead>\n",
       "  <tbody>\n",
       "    <tr>\n",
       "      <td>0</td>\n",
       "      <td>8</td>\n",
       "      <td>Lakewoodcity</td>\n",
       "      <td>0.19</td>\n",
       "      <td>0.33</td>\n",
       "      <td>0.02</td>\n",
       "      <td>0.90</td>\n",
       "      <td>0.12</td>\n",
       "      <td>0.17</td>\n",
       "      <td>0.34</td>\n",
       "      <td>0.47</td>\n",
       "      <td>...</td>\n",
       "      <td>0.0</td>\n",
       "      <td>0.12</td>\n",
       "      <td>0.42</td>\n",
       "      <td>0.50</td>\n",
       "      <td>0.51</td>\n",
       "      <td>0.64</td>\n",
       "      <td>0.12</td>\n",
       "      <td>0.26</td>\n",
       "      <td>0.20</td>\n",
       "      <td>0.20</td>\n",
       "    </tr>\n",
       "    <tr>\n",
       "      <td>1</td>\n",
       "      <td>53</td>\n",
       "      <td>Tukwilacity</td>\n",
       "      <td>0.00</td>\n",
       "      <td>0.16</td>\n",
       "      <td>0.12</td>\n",
       "      <td>0.74</td>\n",
       "      <td>0.45</td>\n",
       "      <td>0.07</td>\n",
       "      <td>0.26</td>\n",
       "      <td>0.59</td>\n",
       "      <td>...</td>\n",
       "      <td>0.0</td>\n",
       "      <td>0.21</td>\n",
       "      <td>0.50</td>\n",
       "      <td>0.34</td>\n",
       "      <td>0.60</td>\n",
       "      <td>0.52</td>\n",
       "      <td>0.02</td>\n",
       "      <td>0.12</td>\n",
       "      <td>0.45</td>\n",
       "      <td>0.67</td>\n",
       "    </tr>\n",
       "    <tr>\n",
       "      <td>2</td>\n",
       "      <td>24</td>\n",
       "      <td>Aberdeentown</td>\n",
       "      <td>0.00</td>\n",
       "      <td>0.42</td>\n",
       "      <td>0.49</td>\n",
       "      <td>0.56</td>\n",
       "      <td>0.17</td>\n",
       "      <td>0.04</td>\n",
       "      <td>0.39</td>\n",
       "      <td>0.47</td>\n",
       "      <td>...</td>\n",
       "      <td>0.0</td>\n",
       "      <td>0.14</td>\n",
       "      <td>0.49</td>\n",
       "      <td>0.54</td>\n",
       "      <td>0.67</td>\n",
       "      <td>0.56</td>\n",
       "      <td>0.01</td>\n",
       "      <td>0.21</td>\n",
       "      <td>0.02</td>\n",
       "      <td>0.43</td>\n",
       "    </tr>\n",
       "    <tr>\n",
       "      <td>3</td>\n",
       "      <td>34</td>\n",
       "      <td>Willingborotownship</td>\n",
       "      <td>0.04</td>\n",
       "      <td>0.77</td>\n",
       "      <td>1.00</td>\n",
       "      <td>0.08</td>\n",
       "      <td>0.12</td>\n",
       "      <td>0.10</td>\n",
       "      <td>0.51</td>\n",
       "      <td>0.50</td>\n",
       "      <td>...</td>\n",
       "      <td>0.0</td>\n",
       "      <td>0.19</td>\n",
       "      <td>0.30</td>\n",
       "      <td>0.73</td>\n",
       "      <td>0.64</td>\n",
       "      <td>0.65</td>\n",
       "      <td>0.02</td>\n",
       "      <td>0.39</td>\n",
       "      <td>0.28</td>\n",
       "      <td>0.12</td>\n",
       "    </tr>\n",
       "    <tr>\n",
       "      <td>4</td>\n",
       "      <td>42</td>\n",
       "      <td>Bethlehemtownship</td>\n",
       "      <td>0.01</td>\n",
       "      <td>0.55</td>\n",
       "      <td>0.02</td>\n",
       "      <td>0.95</td>\n",
       "      <td>0.09</td>\n",
       "      <td>0.05</td>\n",
       "      <td>0.38</td>\n",
       "      <td>0.38</td>\n",
       "      <td>...</td>\n",
       "      <td>0.0</td>\n",
       "      <td>0.11</td>\n",
       "      <td>0.72</td>\n",
       "      <td>0.64</td>\n",
       "      <td>0.61</td>\n",
       "      <td>0.53</td>\n",
       "      <td>0.04</td>\n",
       "      <td>0.09</td>\n",
       "      <td>0.02</td>\n",
       "      <td>0.03</td>\n",
       "    </tr>\n",
       "  </tbody>\n",
       "</table>\n",
       "<p>5 rows × 100 columns</p>\n",
       "</div>"
      ],
      "text/plain": [
       "   state        communityname  population  householdsize  racepctblack  \\\n",
       "0      8         Lakewoodcity        0.19           0.33          0.02   \n",
       "1     53          Tukwilacity        0.00           0.16          0.12   \n",
       "2     24         Aberdeentown        0.00           0.42          0.49   \n",
       "3     34  Willingborotownship        0.04           0.77          1.00   \n",
       "4     42    Bethlehemtownship        0.01           0.55          0.02   \n",
       "\n",
       "   racePctWhite  racePctAsian  racePctHisp  agePct12t21  agePct12t29  ...  \\\n",
       "0          0.90          0.12         0.17         0.34         0.47  ...   \n",
       "1          0.74          0.45         0.07         0.26         0.59  ...   \n",
       "2          0.56          0.17         0.04         0.39         0.47  ...   \n",
       "3          0.08          0.12         0.10         0.51         0.50  ...   \n",
       "4          0.95          0.09         0.05         0.38         0.38  ...   \n",
       "\n",
       "   NumStreet  PctForeignBorn  PctBornSameState  PctSameHouse85  PctSameCity85  \\\n",
       "0        0.0            0.12              0.42            0.50           0.51   \n",
       "1        0.0            0.21              0.50            0.34           0.60   \n",
       "2        0.0            0.14              0.49            0.54           0.67   \n",
       "3        0.0            0.19              0.30            0.73           0.64   \n",
       "4        0.0            0.11              0.72            0.64           0.61   \n",
       "\n",
       "   PctSameState85  LandArea  PopDens  PctUsePubTrans  ViolentCrimesPerPop  \n",
       "0            0.64      0.12     0.26            0.20                 0.20  \n",
       "1            0.52      0.02     0.12            0.45                 0.67  \n",
       "2            0.56      0.01     0.21            0.02                 0.43  \n",
       "3            0.65      0.02     0.39            0.28                 0.12  \n",
       "4            0.53      0.04     0.09            0.02                 0.03  \n",
       "\n",
       "[5 rows x 100 columns]"
      ]
     },
     "execution_count": 16,
     "metadata": {},
     "output_type": "execute_result"
    }
   ],
   "source": [
    "communities.head()"
   ]
  },
  {
   "cell_type": "code",
   "execution_count": 17,
   "metadata": {},
   "outputs": [],
   "source": [
    "target = communities['ViolentCrimesPerPop']"
   ]
  },
  {
   "cell_type": "code",
   "execution_count": 18,
   "metadata": {},
   "outputs": [],
   "source": [
    "communities= communities.drop(['ViolentCrimesPerPop', 'state', 'communityname'], axis=1)"
   ]
  },
  {
   "cell_type": "code",
   "execution_count": 19,
   "metadata": {},
   "outputs": [
    {
     "data": {
      "text/html": [
       "<div>\n",
       "<style scoped>\n",
       "    .dataframe tbody tr th:only-of-type {\n",
       "        vertical-align: middle;\n",
       "    }\n",
       "\n",
       "    .dataframe tbody tr th {\n",
       "        vertical-align: top;\n",
       "    }\n",
       "\n",
       "    .dataframe thead th {\n",
       "        text-align: right;\n",
       "    }\n",
       "</style>\n",
       "<table border=\"1\" class=\"dataframe\">\n",
       "  <thead>\n",
       "    <tr style=\"text-align: right;\">\n",
       "      <th></th>\n",
       "      <th>population</th>\n",
       "      <th>householdsize</th>\n",
       "      <th>racepctblack</th>\n",
       "      <th>racePctWhite</th>\n",
       "      <th>racePctAsian</th>\n",
       "      <th>racePctHisp</th>\n",
       "      <th>agePct12t21</th>\n",
       "      <th>agePct12t29</th>\n",
       "      <th>agePct16t24</th>\n",
       "      <th>agePct65up</th>\n",
       "      <th>...</th>\n",
       "      <th>NumInShelters</th>\n",
       "      <th>NumStreet</th>\n",
       "      <th>PctForeignBorn</th>\n",
       "      <th>PctBornSameState</th>\n",
       "      <th>PctSameHouse85</th>\n",
       "      <th>PctSameCity85</th>\n",
       "      <th>PctSameState85</th>\n",
       "      <th>LandArea</th>\n",
       "      <th>PopDens</th>\n",
       "      <th>PctUsePubTrans</th>\n",
       "    </tr>\n",
       "  </thead>\n",
       "  <tbody>\n",
       "    <tr>\n",
       "      <td>0</td>\n",
       "      <td>0.19</td>\n",
       "      <td>0.33</td>\n",
       "      <td>0.02</td>\n",
       "      <td>0.90</td>\n",
       "      <td>0.12</td>\n",
       "      <td>0.17</td>\n",
       "      <td>0.34</td>\n",
       "      <td>0.47</td>\n",
       "      <td>0.29</td>\n",
       "      <td>0.32</td>\n",
       "      <td>...</td>\n",
       "      <td>0.04</td>\n",
       "      <td>0.0</td>\n",
       "      <td>0.12</td>\n",
       "      <td>0.42</td>\n",
       "      <td>0.50</td>\n",
       "      <td>0.51</td>\n",
       "      <td>0.64</td>\n",
       "      <td>0.12</td>\n",
       "      <td>0.26</td>\n",
       "      <td>0.20</td>\n",
       "    </tr>\n",
       "    <tr>\n",
       "      <td>1</td>\n",
       "      <td>0.00</td>\n",
       "      <td>0.16</td>\n",
       "      <td>0.12</td>\n",
       "      <td>0.74</td>\n",
       "      <td>0.45</td>\n",
       "      <td>0.07</td>\n",
       "      <td>0.26</td>\n",
       "      <td>0.59</td>\n",
       "      <td>0.35</td>\n",
       "      <td>0.27</td>\n",
       "      <td>...</td>\n",
       "      <td>0.00</td>\n",
       "      <td>0.0</td>\n",
       "      <td>0.21</td>\n",
       "      <td>0.50</td>\n",
       "      <td>0.34</td>\n",
       "      <td>0.60</td>\n",
       "      <td>0.52</td>\n",
       "      <td>0.02</td>\n",
       "      <td>0.12</td>\n",
       "      <td>0.45</td>\n",
       "    </tr>\n",
       "    <tr>\n",
       "      <td>2</td>\n",
       "      <td>0.00</td>\n",
       "      <td>0.42</td>\n",
       "      <td>0.49</td>\n",
       "      <td>0.56</td>\n",
       "      <td>0.17</td>\n",
       "      <td>0.04</td>\n",
       "      <td>0.39</td>\n",
       "      <td>0.47</td>\n",
       "      <td>0.28</td>\n",
       "      <td>0.32</td>\n",
       "      <td>...</td>\n",
       "      <td>0.00</td>\n",
       "      <td>0.0</td>\n",
       "      <td>0.14</td>\n",
       "      <td>0.49</td>\n",
       "      <td>0.54</td>\n",
       "      <td>0.67</td>\n",
       "      <td>0.56</td>\n",
       "      <td>0.01</td>\n",
       "      <td>0.21</td>\n",
       "      <td>0.02</td>\n",
       "    </tr>\n",
       "    <tr>\n",
       "      <td>3</td>\n",
       "      <td>0.04</td>\n",
       "      <td>0.77</td>\n",
       "      <td>1.00</td>\n",
       "      <td>0.08</td>\n",
       "      <td>0.12</td>\n",
       "      <td>0.10</td>\n",
       "      <td>0.51</td>\n",
       "      <td>0.50</td>\n",
       "      <td>0.34</td>\n",
       "      <td>0.21</td>\n",
       "      <td>...</td>\n",
       "      <td>0.00</td>\n",
       "      <td>0.0</td>\n",
       "      <td>0.19</td>\n",
       "      <td>0.30</td>\n",
       "      <td>0.73</td>\n",
       "      <td>0.64</td>\n",
       "      <td>0.65</td>\n",
       "      <td>0.02</td>\n",
       "      <td>0.39</td>\n",
       "      <td>0.28</td>\n",
       "    </tr>\n",
       "    <tr>\n",
       "      <td>4</td>\n",
       "      <td>0.01</td>\n",
       "      <td>0.55</td>\n",
       "      <td>0.02</td>\n",
       "      <td>0.95</td>\n",
       "      <td>0.09</td>\n",
       "      <td>0.05</td>\n",
       "      <td>0.38</td>\n",
       "      <td>0.38</td>\n",
       "      <td>0.23</td>\n",
       "      <td>0.36</td>\n",
       "      <td>...</td>\n",
       "      <td>0.00</td>\n",
       "      <td>0.0</td>\n",
       "      <td>0.11</td>\n",
       "      <td>0.72</td>\n",
       "      <td>0.64</td>\n",
       "      <td>0.61</td>\n",
       "      <td>0.53</td>\n",
       "      <td>0.04</td>\n",
       "      <td>0.09</td>\n",
       "      <td>0.02</td>\n",
       "    </tr>\n",
       "  </tbody>\n",
       "</table>\n",
       "<p>5 rows × 97 columns</p>\n",
       "</div>"
      ],
      "text/plain": [
       "   population  householdsize  racepctblack  racePctWhite  racePctAsian  \\\n",
       "0        0.19           0.33          0.02          0.90          0.12   \n",
       "1        0.00           0.16          0.12          0.74          0.45   \n",
       "2        0.00           0.42          0.49          0.56          0.17   \n",
       "3        0.04           0.77          1.00          0.08          0.12   \n",
       "4        0.01           0.55          0.02          0.95          0.09   \n",
       "\n",
       "   racePctHisp  agePct12t21  agePct12t29  agePct16t24  agePct65up  ...  \\\n",
       "0         0.17         0.34         0.47         0.29        0.32  ...   \n",
       "1         0.07         0.26         0.59         0.35        0.27  ...   \n",
       "2         0.04         0.39         0.47         0.28        0.32  ...   \n",
       "3         0.10         0.51         0.50         0.34        0.21  ...   \n",
       "4         0.05         0.38         0.38         0.23        0.36  ...   \n",
       "\n",
       "   NumInShelters  NumStreet  PctForeignBorn  PctBornSameState  PctSameHouse85  \\\n",
       "0           0.04        0.0            0.12              0.42            0.50   \n",
       "1           0.00        0.0            0.21              0.50            0.34   \n",
       "2           0.00        0.0            0.14              0.49            0.54   \n",
       "3           0.00        0.0            0.19              0.30            0.73   \n",
       "4           0.00        0.0            0.11              0.72            0.64   \n",
       "\n",
       "   PctSameCity85  PctSameState85  LandArea  PopDens  PctUsePubTrans  \n",
       "0           0.51            0.64      0.12     0.26            0.20  \n",
       "1           0.60            0.52      0.02     0.12            0.45  \n",
       "2           0.67            0.56      0.01     0.21            0.02  \n",
       "3           0.64            0.65      0.02     0.39            0.28  \n",
       "4           0.61            0.53      0.04     0.09            0.02  \n",
       "\n",
       "[5 rows x 97 columns]"
      ]
     },
     "execution_count": 19,
     "metadata": {},
     "output_type": "execute_result"
    }
   ],
   "source": [
    "communities.head()"
   ]
  },
  {
   "cell_type": "markdown",
   "metadata": {},
   "source": [
    "<b> b) Perform standard linear regression on data using the implementation for Ch. 8 of MLA. Compute the RMSE value on the full training data. Also, plot the correlation between the predicted and actual values of the target attribute. Display the obtained regression coefficients (weights). Finally, perform 10-fold cross-validation and compare the cross-validation RMSE to the training RMSE (for cross validation, you should use the KFold module from sklearn.cross_validation)."
   ]
  },
  {
   "cell_type": "code",
   "execution_count": 20,
   "metadata": {},
   "outputs": [],
   "source": [
    "target = np.array(target).astype(np.float)"
   ]
  },
  {
   "cell_type": "code",
   "execution_count": 21,
   "metadata": {},
   "outputs": [],
   "source": [
    "comm = np.array(communities).astype(np.float)"
   ]
  },
  {
   "cell_type": "code",
   "execution_count": 22,
   "metadata": {},
   "outputs": [
    {
     "data": {
      "text/plain": [
       "LinearRegression(copy_X=True, fit_intercept=True, n_jobs=None, normalize=False)"
      ]
     },
     "execution_count": 22,
     "metadata": {},
     "output_type": "execute_result"
    }
   ],
   "source": [
    "# Performing the standard linear regression on data using the implementation for Ch. 8 of MLA. \n",
    "lnr_reg = LinearRegression()\n",
    "lnr_reg.fit(comm, target)"
   ]
  },
  {
   "cell_type": "code",
   "execution_count": 23,
   "metadata": {},
   "outputs": [
    {
     "name": "stdout",
     "output_type": "stream",
     "text": [
      "[0.03448162 0.37937027 0.04632201 0.20270857 0.05129155 0.09017938\n",
      " 0.05800201 0.1076608  0.29252029 0.14473903]\n"
     ]
    }
   ],
   "source": [
    "pred = lnr_reg.predict(comm)\n",
    "err = abs(pred - target)\n",
    "print(err[:10])"
   ]
  },
  {
   "cell_type": "code",
   "execution_count": 24,
   "metadata": {},
   "outputs": [
    {
     "name": "stdout",
     "output_type": "stream",
     "text": [
      "0.12888960779787603\n"
     ]
    }
   ],
   "source": [
    "#Compute the RMSE value on the full training data. \n",
    "rmse_train = np.sqrt(np.dot(err, err)/len(pred))\n",
    "print(rmse_train)"
   ]
  },
  {
   "cell_type": "code",
   "execution_count": 25,
   "metadata": {},
   "outputs": [
    {
     "name": "stdout",
     "output_type": "stream",
     "text": [
      "Regression Coefficients: \n",
      " [ 1.31108068e-01 -3.14114977e-02  2.09909670e-01 -4.05351612e-02\n",
      " -1.38892919e-02  5.89726825e-02  1.23399025e-01 -2.22621600e-01\n",
      " -1.47500199e-01  5.01635477e-02 -2.42413829e-01  4.64024392e-02\n",
      " -1.96945615e-01 -2.06117500e-01  4.65935490e-02 -1.77212915e-01\n",
      "  6.30148504e-02  1.14942190e-02 -9.08951848e-02  2.74640044e-01\n",
      "  1.01752476e-01 -3.31517562e-01 -2.91799268e-02 -3.54483393e-02\n",
      "  2.26173855e-02  4.30950137e-02  3.44408548e-02  1.28412458e-01\n",
      " -1.91293360e-01 -1.00769002e-01  6.46856092e-02  1.06062117e-01\n",
      "  2.44125996e-06  2.34984611e-01 -3.75705330e-02 -7.74957660e-03\n",
      "  4.66779619e-01  2.26295907e-01  1.74621953e-01 -5.75206227e-01\n",
      " -1.41954207e-01  5.68782538e-02 -3.51066745e-01 -3.49493414e-02\n",
      "  4.63705978e-04  5.57016681e-02 -1.82238360e-01 -1.54646442e-01\n",
      "  1.26172899e-01 -1.44320569e-01  2.39071713e-02  3.33390229e-02\n",
      " -7.42297409e-02  3.59876412e-02 -3.31691535e-02 -2.18174916e-01\n",
      "  4.45777391e-01 -2.00030978e-01 -2.67307658e-02 -1.41457254e-01\n",
      "  6.38133109e-02 -2.10115806e-01  6.51276465e-01 -8.02774919e-02\n",
      " -2.53817057e-01 -6.66334925e-01  2.01002575e-01  1.03326247e-01\n",
      "  2.88599766e-02  1.68314795e-01 -4.00752791e-02  5.53867355e-01\n",
      "  4.70396419e-02 -7.64314747e-02 -2.89277350e-02  1.40739015e-02\n",
      " -1.40629951e-02 -3.46854609e-01  2.67796471e-01  1.19446906e-02\n",
      " -2.36996317e-01 -2.60764386e-02 -6.84041742e-02  3.74730887e-01\n",
      "  4.17402525e-02 -4.45747318e-02 -8.34683479e-02  1.30736305e-01\n",
      "  1.83468559e-01  1.26046949e-01  4.63490658e-03 -2.24577196e-02\n",
      "  2.88627319e-02  1.30622513e-02  2.76170980e-02 -1.24479622e-02\n",
      " -3.73099899e-02]\n"
     ]
    }
   ],
   "source": [
    "# Display the obtained regression coefficients (weights).\n",
    "print('Regression Coefficients: \\n', lnr_reg.coef_)"
   ]
  },
  {
   "cell_type": "code",
   "execution_count": 26,
   "metadata": {},
   "outputs": [
    {
     "data": {
      "image/png": "[encoded data removed]",
      "text/plain": [
       "<Figure size 432x288 with 1 Axes>"
      ]
     },
     "metadata": {
      "needs_background": "light"
     },
     "output_type": "display_data"
    }
   ],
   "source": [
    "#PLOT\n",
    "plt.plot(pred, target, 'ro')\n",
    "plt.plot([0,1.2,0.2],[0,1.2,0.2])\n",
    "plt.xlabel('Predicted Values')\n",
    "plt.ylabel('Actual Values')\n",
    "plt.show()"
   ]
  },
  {
   "cell_type": "code",
   "execution_count": 27,
   "metadata": {},
   "outputs": [
    {
     "name": "stdout",
     "output_type": "stream",
     "text": [
      "RMSE on training: 0.1289 AND RMSE on 10-fold CV: 0.1359\n"
     ]
    }
   ],
   "source": [
    "#RMSE using 10-fold validation\n",
    "\n",
    "n = 10\n",
    "kf = KFold(n_splits=n)\n",
    "xval_err = 0\n",
    "\n",
    "# Calculate the rmse for the 10 folds\n",
    "for train, test in kf.split(comm):\n",
    "    lnr_reg.fit(comm[train], target[train])\n",
    "    e = lnr_reg.predict(comm[test]) - target[test]\n",
    "    xval_err += np.sqrt(np.dot(e,e)/len(comm[test])) / n \n",
    "    \n",
    "print('RMSE on training: %.4f' %rmse_train, \"AND\",'RMSE on 10-fold CV: %.4f' %xval_err)"
   ]
  },
  {
   "cell_type": "markdown",
   "metadata": {},
   "source": [
    "**Above resulsts show that the RMSE increased after 10-fold cross validation!!!"
   ]
  },
  {
   "cell_type": "markdown",
   "metadata": {},
   "source": [
    "<b>c) Feature Selection:  use the scikit-learn regression model from sklearn.linear_model with a subset of features to perform linear regression. For feature selection, write a script or function that takes as input the training data, target variable; the model; and any other parameters you find necessary, and returns the optimal percentage of the most informative features to use. Your approach should use k-fold cross-validation on the training data (you can use k=5). You can use feature_selection.SelectPercentile to find the most informative variables. Show the list of most informative variables and their weights Note: since this is regression not classification, you should use feature_selection.f_regression as scoring function rather than chi2). Next, plot the model's mean absolute error values  on cross-validation relative to the percentage of selected features (See scikit-learn's metrics.mean_absolute_error). In order to use cross_validation.cross_val_score with regression you'll need to pass to it scoring='mean_absolute_error' as a parameter. Hint: for an example of a similar feature selection process please review the class example notebook. Also, review scikit-learn documentation for feature selection."
   ]
  },
  {
   "cell_type": "code",
   "execution_count": 33,
   "metadata": {},
   "outputs": [],
   "source": [
    "from sklearn.metrics import mean_squared_error\n",
    "\n",
    "x_train, x_test, y_train, y_test = train_test_split(comm, target, test_size = 0.2, random_state = 1)"
   ]
  },
  {
   "cell_type": "code",
   "execution_count": 34,
   "metadata": {},
   "outputs": [
    {
     "name": "stdout",
     "output_type": "stream",
     "text": [
      "(1595, 97)\n",
      "[False False  True  True False False False False False False False False\n",
      " False False False  True False  True False False False False False False\n",
      " False False False False  True False  True False  True False False False\n",
      "  True False  True  True False  True  True  True  True False False False\n",
      "  True False False False False False False False False False False False\n",
      " False False False False False  True False  True False False False  True\n",
      "  True False False  True False False False False False False False False\n",
      " False False False False False False False False False False False False\n",
      " False]\n",
      "[2.51045167e+02 2.19579063e+00 1.11084476e+03 1.47211923e+03\n",
      " 2.35835272e+00 1.50473300e+02 4.93277292e+00 3.56829887e+01\n",
      " 1.51395807e+01 9.59636034e+00 2.43692363e+02 9.49180625e+00\n",
      " 3.63306736e+02 1.71337792e+02 4.68902268e+01 8.21542444e+02\n",
      " 2.62634875e+01 8.36386408e+02 1.48314853e+01 3.92571949e+02\n",
      " 2.27493980e+02 7.05745981e+01 1.31172182e+02 1.56593530e+01\n",
      " 3.51014385e+01 2.45860071e+01 1.03862349e+02 3.93464494e+02\n",
      " 6.33646296e+02 3.44968270e+02 5.14036659e+02 1.75983453e+02\n",
      " 5.59697219e+02 2.11429762e+02 2.50813844e+00 8.30363961e+00\n",
      " 6.25999604e+02 1.61960256e+02 7.39857528e+02 7.23217591e+02\n",
      " 2.99397133e+01 1.65116009e+03 1.98578029e+03 1.29953889e+03\n",
      " 1.31044666e+03 9.01707986e-01 3.68858074e+01 4.42871871e+02\n",
      " 1.94660825e+03 1.48901145e+02 4.85724755e+01 7.97493518e+01\n",
      " 1.11047779e+02 1.60604494e+02 8.67326260e+01 1.02242560e+02\n",
      " 1.05666816e+02 1.16124488e+02 9.42063144e+01 1.59328432e+02\n",
      " 2.85609717e+02 1.58600500e+02 3.10125846e+00 3.05124909e+01\n",
      " 1.05630290e+02 6.13065185e+02 4.26492853e+02 4.93297803e+02\n",
      " 2.40958632e+02 3.51685508e+02 1.72862697e+02 4.50941471e+02\n",
      " 5.33733329e+02 1.53956939e+00 2.31338891e+01 5.03194685e+02\n",
      " 2.39903514e+02 7.32331744e+01 5.89761381e+01 4.71107873e+01\n",
      " 1.09850204e+02 9.90554935e+01 9.02093209e+01 9.89948354e+01\n",
      " 2.04761344e+02 5.72748449e+00 2.76502968e+00 2.74211489e+02\n",
      " 2.08721554e+02 5.95128526e+01 5.97515994e+00 3.61983774e+01\n",
      " 1.33142557e+01 1.23596050e-02 7.52017332e+01 1.27634275e+02\n",
      " 3.64401139e+01]\n",
      "Index(['racepctblack', 'racePctWhite', 'pctWInvInc', 'pctWPubAsst',\n",
      "       'PctPopUnderPov', 'PctNotHSGrad', 'PctUnemployed', 'MalePctDivorce',\n",
      "       'FemalePctDiv', 'TotalPctDiv', 'PctFam2Par', 'PctKids2Par',\n",
      "       'PctYoungKids2Par', 'PctTeen2Par', 'PctIlleg', 'PctPersOwnOccup',\n",
      "       'PctHousLess3BR', 'PctHousOwnOcc', 'PctVacantBoarded',\n",
      "       'PctHousNoPhone'],\n",
      "      dtype='object')\n",
      "racepctblack \t 1110.8447580308507\n",
      "racePctWhite \t 1472.1192255067037\n",
      "pctWInvInc \t 821.5424443563828\n",
      "pctWPubAsst \t 836.3864076888946\n",
      "PctPopUnderPov \t 633.6462957908942\n",
      "PctNotHSGrad \t 514.0366590270836\n",
      "PctUnemployed \t 559.6972190971469\n",
      "MalePctDivorce \t 625.9996044212469\n",
      "FemalePctDiv \t 739.8575276769049\n",
      "TotalPctDiv \t 723.2175906956206\n",
      "PctFam2Par \t 1651.1600857121882\n",
      "PctKids2Par \t 1985.7802916511657\n",
      "PctYoungKids2Par \t 1299.5388949607623\n",
      "PctTeen2Par \t 1310.446659793611\n",
      "PctIlleg \t 1946.6082510963142\n",
      "PctPersOwnOccup \t 613.0651845096282\n",
      "PctHousLess3BR \t 493.2978031722825\n",
      "PctHousOwnOcc \t 450.94147139589916\n",
      "PctVacantBoarded \t 533.733328755677\n",
      "PctHousNoPhone \t 503.19468489153985\n"
     ]
    }
   ],
   "source": [
    "fs = feature_selection.SelectPercentile(feature_selection.f_regression, percentile = 20)\n",
    "x_train_fs = fs.fit_transform(x_train, y_train)\n",
    "print(np.shape(x_train))\n",
    "\n",
    "print(fs.get_support())\n",
    "print(fs.scores_)\n",
    "print(communities.columns[fs.get_support()])\n",
    "\n",
    "for i in range(len(communities.columns.values)):\n",
    "    if fs.get_support()[i]:\n",
    "        print(communities.columns.values[i],'\\t', fs.scores_[i])\n",
    "\n"
   ]
  },
  {
   "cell_type": "code",
   "execution_count": 35,
   "metadata": {},
   "outputs": [
    {
     "name": "stdout",
     "output_type": "stream",
     "text": [
      "1 0.1143082919573285\n",
      "6 0.1017531726544337\n",
      "11 0.10193218463691685\n",
      "16 0.10163951294725744\n",
      "21 0.09979213564651518\n",
      "26 0.09853059114903374\n",
      "31 0.09768340824853873\n",
      "36 0.09767372638304517\n",
      "41 0.09696813767147835\n",
      "46 0.09755676747828254\n",
      "51 0.09783432630087344\n",
      "56 0.09802883732031871\n",
      "61 0.09844375161235179\n",
      "66 0.0988830674973922\n",
      "71 0.09941657780750722\n",
      "76 0.09857444771454424\n",
      "81 0.09873225791337155\n",
      "86 0.09891271450025303\n",
      "91 0.0988815005945688\n",
      "96 0.09803055178517825\n"
     ]
    }
   ],
   "source": [
    "percentiles = range(1, 100, 5)\n",
    "result_list = []\n",
    "\n",
    "for i in range(1, 100, 5):\n",
    "    fs = feature_selection.SelectPercentile(feature_selection.f_regression, percentile = i)\n",
    "    x_train_fs = fs.fit_transform(x_train, y_train)\n",
    "    scores = (cross_val_score(lnr_reg, x_train_fs, y_train, cv=5, scoring = 'neg_mean_absolute_error'))\n",
    "    print (i, abs(scores.mean()))\n",
    "    result_list = np.append(result_list, scores.mean())"
   ]
  },
  {
   "cell_type": "code",
   "execution_count": 38,
   "metadata": {},
   "outputs": [
    {
     "name": "stdout",
     "output_type": "stream",
     "text": [
      "Optimal percentile of features:[41] \n",
      "\n",
      "Optimal number of features:39 \n",
      "\n"
     ]
    }
   ],
   "source": [
    "optimal_percentile = np.where(result_list == result_list.max())[0]\n",
    "percentiles1 = np.array(percentiles)\n",
    "print (\"Optimal percentile of features:{0}\".format(percentiles1[optimal_percentile]), \"\\n\")\n",
    "optimal_num_features = int(percentiles1[optimal_percentile] * len(communities.columns) / 100)\n",
    "print (\"Optimal number of features:{0}\".format(optimal_num_features), \"\\n\")"
   ]
  },
  {
   "cell_type": "code",
   "execution_count": 39,
   "metadata": {},
   "outputs": [
    {
     "data": {
      "image/png": "[encoded data removed]",
      "text/plain": [
       "<Figure size 432x288 with 1 Axes>"
      ]
     },
     "metadata": {
      "needs_background": "light"
     },
     "output_type": "display_data"
    }
   ],
   "source": [
    "plt.clf()\n",
    "plt.plot(percentiles1, abs(result_list))\n",
    "plt.xlabel('Percentage of Features Selected')\n",
    "plt.ylabel('Cross Validation Accuracy')\n",
    "plt.show()"
   ]
  },
  {
   "cell_type": "code",
   "execution_count": 40,
   "metadata": {},
   "outputs": [],
   "source": [
    "fs = feature_selection.SelectKBest(feature_selection.f_regression, optimal_num_features)\n",
    "x_train_fs = fs.fit_transform(x_train, y_train)"
   ]
  },
  {
   "cell_type": "code",
   "execution_count": 41,
   "metadata": {},
   "outputs": [],
   "source": [
    "communities = pd.read_csv(\"communities.csv\", na_values = ['?'])"
   ]
  },
  {
   "cell_type": "code",
   "execution_count": 42,
   "metadata": {},
   "outputs": [],
   "source": [
    "df_comm = communities.drop(['ViolentCrimesPerPop', 'state', 'communityname'], axis=1, inplace = False)"
   ]
  },
  {
   "cell_type": "code",
   "execution_count": 43,
   "metadata": {},
   "outputs": [
    {
     "name": "stdout",
     "output_type": "stream",
     "text": [
      "population \t\t 251.04516749684805\n",
      "racepctblack \t\t 1110.8447580308507\n",
      "racePctWhite \t\t 1472.1192255067037\n",
      "numbUrban \t\t 243.69236327250144\n",
      "medIncome \t\t 363.30673630875435\n",
      "pctWInvInc \t\t 821.5424443563828\n",
      "pctWPubAsst \t\t 836.3864076888946\n",
      "medFamInc \t\t 392.57194934776095\n",
      "perCapInc \t\t 227.49398013055693\n",
      "NumUnderPov \t\t 393.4644939777943\n",
      "PctPopUnderPov \t\t 633.6462957908942\n",
      "PctLess9thGrade \t\t 344.96827025175554\n",
      "PctNotHSGrad \t\t 514.0366590270836\n",
      "PctBSorMore \t\t 175.98345339081797\n",
      "PctUnemployed \t\t 559.6972190971469\n",
      "PctEmploy \t\t 211.42976242451473\n",
      "MalePctDivorce \t\t 625.9996044212469\n",
      "FemalePctDiv \t\t 739.8575276769049\n",
      "TotalPctDiv \t\t 723.2175906956206\n",
      "PctFam2Par \t\t 1651.1600857121882\n",
      "PctKids2Par \t\t 1985.7802916511657\n",
      "PctYoungKids2Par \t\t 1299.5388949607623\n",
      "PctTeen2Par \t\t 1310.446659793611\n",
      "NumIlleg \t\t 442.87187055002994\n",
      "PctIlleg \t\t 1946.6082510963142\n",
      "PctLargHouseFam \t\t 285.6097170756632\n",
      "PctPersOwnOccup \t\t 613.0651845096282\n",
      "PctPersDenseHous \t\t 426.492853483921\n",
      "PctHousLess3BR \t\t 493.2978031722825\n",
      "MedNumBR \t\t 240.9586324613612\n",
      "HousVacant \t\t 351.6855084855825\n",
      "PctHousOccup \t\t 172.86269724638748\n",
      "PctHousOwnOcc \t\t 450.94147139589916\n",
      "PctVacantBoarded \t\t 533.733328755677\n",
      "PctHousNoPhone \t\t 503.19468489153985\n",
      "PctWOFullPlumb \t\t 239.90351446969024\n",
      "MedRentPctHousInc \t\t 204.76134430756048\n",
      "NumInShelters \t\t 274.2114893889289\n",
      "NumStreet \t\t 208.72155425842257\n"
     ]
    }
   ],
   "source": [
    "for i in range(len(df_comm.columns.values)):\n",
    "    if fs.get_support()[i]:\n",
    "        print (df_comm.columns.values[i],'\\t\\t', fs.scores_[i])"
   ]
  },
  {
   "cell_type": "code",
   "execution_count": 44,
   "metadata": {},
   "outputs": [
    {
     "name": "stdout",
     "output_type": "stream",
     "text": [
      "MAE of the testing data is 0.02061899\n"
     ]
    }
   ],
   "source": [
    "#Mean absolute error \n",
    "fs = feature_selection.SelectPercentile(feature_selection.f_regression, percentile=41)\n",
    "x_train_fs = fs.fit_transform(x_train, y_train)\n",
    "linreg = LinearRegression()\n",
    "linreg.fit(x_train_fs, y_train)\n",
    "x_test_fs = fs.transform(x_test)\n",
    "lr_pred = linreg.predict(x_test_fs)\n",
    "lr_mae = mean_squared_error(y_test, lr_pred)\n",
    "\n",
    "print ('MAE of the testing data is %0.8f' % lr_mae)"
   ]
  },
  {
   "cell_type": "markdown",
   "metadata": {},
   "source": [
    "<b>D.Next, perform Ridge Regression and Lasso Regression using the modules from sklearn.linear_model. In each case, perform systematic model selection to identify the optimal alpha parameter. First, create a 20%-80% randomized split of the data. Set aside the test portion; the model selection process should be performed using the 80% training data partition. You should create a function that takes as input the data and target variable; the parameter to vary and a list of its values; the model to be trained; and any other relevant input needed to determine the optimal value for the specified parameter. The model selection process should perform k-fold cross validation (k should be a parameter, but you can select k=5 for this problem). You should also plot the error values on the training and cross-validation splits across the specified values of the alpha parameter. Finally, using the best alpha value, run the model on the set-aside test data. Discuss your observation and conclusions. [Hint: for an example of a similar model selection process please review the class example notebook.]"
   ]
  },
  {
   "cell_type": "code",
   "execution_count": 50,
   "metadata": {},
   "outputs": [
    {
     "name": "stdout",
     "output_type": "stream",
     "text": [
      "Method: Ridge Regression\n",
      "RMSE on training: 0.1294\n",
      "RMSE on 5-fold CV: 0.1360\n"
     ]
    }
   ],
   "source": [
    "from sklearn.linear_model import Lasso, Ridge, ElasticNet, SGDRegressor\n",
    "\n",
    "ridge = Ridge(fit_intercept=True, alpha=0.5)\n",
    "ridge.fit(comm, target)\n",
    "\n",
    "err = ridge.predict(comm) - target\n",
    "rmse_train = np.sqrt(np.dot(err, err)/len(pred))\n",
    "\n",
    "n = 5\n",
    "kf = KFold(n_splits=n)\n",
    "xval_err = 0\n",
    "for train, test in kf.split(comm):\n",
    "    ridge.fit(comm[train], target[train])\n",
    "    e = ridge.predict(comm[test])-target[test]\n",
    "    xval_err += np.sqrt(np.dot(e, e)/len(comm[test])) / n\n",
    "\n",
    "print('Method: Ridge Regression')\n",
    "print('RMSE on training: %.4f' %rmse_train)\n",
    "print('RMSE on 5-fold CV: %.4f' %xval_err)\n"
   ]
  },
  {
   "cell_type": "code",
   "execution_count": null,
   "metadata": {},
   "outputs": [],
   "source": []
  },
  {
   "cell_type": "markdown",
   "metadata": {},
   "source": [
    "<b> E.Next, perform regression using Stochastic Gradient Descent for regression. For this part, you should use the SGDRegessor module from sklearn.linear_model. Again, start by a creating randomized 80%-20% train-test split. SGDRegessor requires that features be standardized (with 0 mean and scaled by standard deviation). Prior to fiting the model, perform the scaling using StandardScaler from sklearn.preprocessing. For this problem, perform a grid search (using GridSearchCV from sklearn.grid_search) Your grid search should compare combinations of two penalty parameters ('l2', 'l1') and different values of alpha (alpha could vary from 0.0001 which is the default to relatively large values, say 10). Using the best parameters, apply the model to the set-aside test data. Finally, perform model selection (similar to part d, above) to find the best \"l1_ratio\" parameter using SGDRegressor with  the \"elasticnet\" penalty parameter. [Note: \"l1_ratio\" is The Elastic Net mixing parameter, with 0 <= l1_ratio <= 1;  l1_ratio=0 corresponds to L2 penalty, l1_ratio=1 to L1 penalty; defaults to 0.15.] Using the best mixing ratio, apply the Elastic Net model to the set-aside test data. Provide a summary of your findings from the above experiments."
   ]
  },
  {
   "cell_type": "code",
   "execution_count": null,
   "metadata": {},
   "outputs": [],
   "source": []
  }
 ],
 "metadata": {
  "kernelspec": {
   "display_name": "Python 3",
   "language": "python",
   "name": "python3"
  },
  "language_info": {
   "codemirror_mode": {
    "name": "ipython",
    "version": 3
   },
   "file_extension": ".py",
   "mimetype": "text/x-python",
   "name": "python",
   "nbconvert_exporter": "python",
   "pygments_lexer": "ipython3",
   "version": "3.7.4"
  }
 },
 "nbformat": 4,
 "nbformat_minor": 2
}
